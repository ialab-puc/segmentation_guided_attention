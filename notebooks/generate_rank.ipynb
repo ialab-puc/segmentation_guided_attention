{
 "cells": [
  {
   "cell_type": "code",
   "execution_count": 44,
   "metadata": {},
   "outputs": [],
   "source": [
    "import pandas as pd\n",
    "import numpy as np\n",
    "import os"
   ]
  },
  {
   "cell_type": "code",
   "execution_count": 45,
   "metadata": {},
   "outputs": [],
   "source": [
    "#constants\n",
    "DATA_DIR = '../votes/'"
   ]
  },
  {
   "cell_type": "code",
   "execution_count": 46,
   "metadata": {},
   "outputs": [],
   "source": [
    "images = set()\n",
    "for attribute in os.listdir(DATA_DIR):\n",
    "    data = pd.read_csv(f'{DATA_DIR}/{attribute}/val.csv')\n",
    "    images |= set(data['left_id']) | set(data['right_id'])"
   ]
  },
  {
   "cell_type": "code",
   "execution_count": 47,
   "metadata": {},
   "outputs": [],
   "source": [
    "result = pd.DataFrame({'id':list(images)})\n",
    "for attribute in os.listdir(DATA_DIR):\n",
    "    result[attribute] = 0"
   ]
  },
  {
   "cell_type": "code",
   "execution_count": 48,
   "metadata": {},
   "outputs": [],
   "source": [
    "result.to_csv('../rank.csv',index=False)"
   ]
  },
  {
   "cell_type": "code",
   "execution_count": 49,
   "metadata": {},
   "outputs": [],
   "source": [
    "for attribute in os.listdir(DATA_DIR):\n",
    "    result[attribute] = np.random.randint(-3, 15, result.shape[0])"
   ]
  },
  {
   "cell_type": "code",
   "execution_count": 54,
   "metadata": {},
   "outputs": [],
   "source": [
    "for attribute in os.listdir(DATA_DIR):\n",
    "    result[attribute] = 10*(result[attribute] - np.min(result[attribute]))/(np.max(result[attribute]) - np.min(result[attribute])) - 5"
   ]
  }
 ],
 "metadata": {
  "kernelspec": {
   "display_name": "pyenv",
   "language": "python",
   "name": "pyenv"
  },
  "language_info": {
   "codemirror_mode": {
    "name": "ipython",
    "version": 3
   },
   "file_extension": ".py",
   "mimetype": "text/x-python",
   "name": "python",
   "nbconvert_exporter": "python",
   "pygments_lexer": "ipython3",
   "version": "3.6.8"
  }
 },
 "nbformat": 4,
 "nbformat_minor": 2
}
